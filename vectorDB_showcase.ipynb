{
 "cells": [
  {
   "cell_type": "code",
   "execution_count": 1,
   "metadata": {},
   "outputs": [
    {
     "name": "stderr",
     "output_type": "stream",
     "text": [
      "c:\\Users\\Kong Letian\\anaconda3\\envs\\chrenv\\lib\\site-packages\\langchain\\retrievers\\document_compressors\\chain_extract.py:14: LangChainDeprecationWarning: As of langchain-core 0.3.0, LangChain uses pydantic v2 internally. The langchain_core.pydantic_v1 module was a compatibility shim for pydantic v1, and should no longer be used. Please update the code to import from Pydantic directly.\n",
      "\n",
      "For example, replace imports like: `from langchain_core.pydantic_v1 import BaseModel`\n",
      "with: `from pydantic import BaseModel`\n",
      "or the v1 compatibility namespace if you are working in a code base that has not been fully upgraded to pydantic 2 yet. \tfrom pydantic.v1 import BaseModel\n",
      "\n",
      "  from langchain.chains.llm import LLMChain\n",
      "c:\\Users\\Kong Letian\\anaconda3\\envs\\chrenv\\lib\\site-packages\\pydantic\\_internal\\_config.py:341: UserWarning: Valid config keys have changed in V2:\n",
      "* 'allow_population_by_field_name' has been renamed to 'populate_by_name'\n",
      "  warnings.warn(message, UserWarning)\n"
     ]
    }
   ],
   "source": [
    "import os\n",
    "import csv\n",
    "import pickle\n",
    "import numpy as np\n",
    "import pandas as pd\n",
    "from langchain_chroma import Chroma\n",
    "from langchain.storage import InMemoryStore\n",
    "from langchain_huggingface import HuggingFaceEmbeddings\n",
    "from langchain.text_splitter import RecursiveCharacterTextSplitter\n",
    "from langchain_community.document_loaders.csv_loader import CSVLoader\n",
    "from langchain.retrievers import ParentDocumentRetriever"
   ]
  },
  {
   "cell_type": "code",
   "execution_count": 2,
   "metadata": {},
   "outputs": [
    {
     "name": "stderr",
     "output_type": "stream",
     "text": [
      "c:\\Users\\Kong Letian\\anaconda3\\envs\\chrenv\\lib\\site-packages\\sentence_transformers\\cross_encoder\\CrossEncoder.py:13: TqdmWarning: IProgress not found. Please update jupyter and ipywidgets. See https://ipywidgets.readthedocs.io/en/stable/user_install.html\n",
      "  from tqdm.autonotebook import tqdm, trange\n",
      "c:\\Users\\Kong Letian\\anaconda3\\envs\\chrenv\\lib\\site-packages\\transformers\\tokenization_utils_base.py:1601: FutureWarning: `clean_up_tokenization_spaces` was not set. It will be set to `True` by default. This behavior will be depracted in transformers v4.45, and will be then set to `False` by default. For more details check this issue: https://github.com/huggingface/transformers/issues/31884\n",
      "  warnings.warn(\n"
     ]
    }
   ],
   "source": [
    "embeddings = HuggingFaceEmbeddings(model_name = \"sentence-transformers/all-MiniLM-L6-v2\")"
   ]
  },
  {
   "cell_type": "code",
   "execution_count": 3,
   "metadata": {},
   "outputs": [],
   "source": [
    "loader = CSVLoader(\n",
    "    encoding=\"utf8\",\n",
    "    file_path=\"product_info.csv\",\n",
    "    #metadata_columns=[\"title\", \"average_rating\", \"rating_number\", \"price\", \"store\", \"categories\"]\n",
    "  )\n",
    "documents = loader.load()"
   ]
  },
  {
   "cell_type": "code",
   "execution_count": 4,
   "metadata": {},
   "outputs": [
    {
     "data": {
      "text/plain": [
       "[Document(metadata={'source': 'product_info.csv', 'row': 0}, page_content='title: Braveman USB Wired Mouse, 3 Buttons, 4 LED Backlit and 4 Adjustable DPI Level(800/1200/1600/2400) Compatible with Desktop/Laptop/PC - Red\\naverage_rating: 4.2\\nrating_number: 8\\nfeatures: [\\'【Buy one get one mouse pad by adding both to cart】Adjustable DPI & LED backlit - 4-level adjustable DPI(800/1200/1600/2400). The optical sensor works precisely with different tracking speed. Ideal for web surfing, competitive gaming, and photo editing. The breathing light will be switched to red/blue/green/purple\\', \\'Compact, Ergonomic & Symmetrical Design - Low-friction base smoothly glides over work surfaces. Ergo-design naturally fits your hand and relieves fatigue for long-term use. High-precise optical sensor and sturdy construction deliver reliable performance\\', \\'Simple to Use - 3 buttons and 1 scroll wheel for improving efficiency, just \"plug and play\". No additional software, drive or firmware required.\\', \\'Support System - Works with Windows 2000/7/8/10/XP/Vista/ME Mac OS System for gaming or office job\\', \\'Warranty - One year 100% satisfied quality guarantee. Any questions, feel free to contact us.\\']\\ndescription: [\\'FEATURES\\', \\'Strongly precision, dependable optical technology\\', \\'High-precise optical sensor and sturdy construction deliver reliable performance.\\', \\'Low-friction base smoothly glides over work surfaces\\', \\'Plug and play directly, NO driver needed\\', \\'SPECIFICATION\\', \\'Report rate: 500Hz\\', \\'Buttons: 3 Buttons\\', \\'DPI: 800-1200-1600-2400\\', \\'Backlit: Red/Yellow/Purple/White\\', \\'Switch life: 5 million\\', \\'Body color: Red\\', \\'Weight: 0.3 pounds\\', \\'Package Dimension: 5.51 X 3.7 X 1.69 inches\\', \\'SUPPORT SYSTEM\\', \\'Supports Windows 2000/7/8/10/XP/Vista/ME System Mac OS for normal using.\\', \\'WARRANTY\\', \\'Backed by a 12-month warranty, free replacement or a full refund against defects in materials and workmanship.\\']\\nprice: \\nstore: Braveman\\ncategories: [\\'Electronics\\', \\'Computers & Accessories\\', \\'Computer Accessories & Peripherals\\', \\'Keyboards, Mice & Accessories\\', \\'Mice\\']\\ndetails: {\\'Product Dimensions\\': \\'5.51 x 3.7 x 1.69 inches\\', \\'Item Weight\\': \\'3.66 ounces\\', \\'Manufacturer\\': \\'Braveman\\', \\'Is Discontinued By Manufacturer\\': \\'No\\', \\'Date First Available\\': \\'January 30, 2018\\', \\'Brand\\': \\'Braveman\\', \\'Color\\': \\'red-wired\\', \\'Connectivity Technology\\': \\'Wired, USB\\', \\'Special Feature\\': \\'Ergonomic Design\\', \\'Movement Detection Technology\\': \\'Optical\\'}\\ntags: [\\'Electronics\\', \\'Computers & Accessories\\', \\'Computer Accessories & Peripherals\\', \\'Keyboards, Mice & Accessories\\', \\'Mice\\']'),\n",
       " Document(metadata={'source': 'product_info.csv', 'row': 1}, page_content=\"title: HDE Ultra-Thin Wireless Mouse 2.4GHZ Ergonomic Candy Colored Optical Mouse with USB Nano Receiver and Adjustable DPI Switch (White)\\naverage_rating: 3.4\\nrating_number: 266\\nfeatures: []\\ndescription: ['Slim, comfortable, and responsive - this accessory is the sports car of computer mice. Operating on a 2.4 GHz wireless frequency, this mouse is made of lightweight yet durable ABS plastic, insuring a long life of providing you with optimal computer input. The optical sensor provides more responsive reaction than a normal laser mouse and the adjustable DPI can be set to your preferred level of sensitivity. Go fast, go sleek, and go slim with a slimmed down wireless mouse and leave all the others in the dust.']\\nprice: \\nstore: HDE\\ncategories: ['Electronics', 'Computers & Accessories', 'Computer Accessories & Peripherals', 'Keyboards, Mice & Accessories', 'Mice']\\ndetails: {'Package Dimensions': '5.5 x 3.5 x 1.3 inches', 'Item Weight': '1.76 ounces', 'Manufacturer': 'HDE', 'Item model number': 'HDE-M47', 'Is Discontinued By Manufacturer': 'No', 'Date First Available': 'September 3, 2013', 'Brand': 'HDE', 'Color': 'White', 'Connectivity Technology': 'Wireless, USB', 'Special Feature': 'Wireless', 'Movement Detection Technology': 'Optical'}\\ntags: ['Electronics', 'Computers & Accessories', 'Computer Accessories & Peripherals', 'Keyboards, Mice & Accessories', 'Mice']\"),\n",
       " Document(metadata={'source': 'product_info.csv', 'row': 2}, page_content=\"title: Magece G2 Gaming Mouse LED Optical USB Wired Gaming Mice for Mac PC-7 Buttons 3200 DPI\\naverage_rating: 3.3\\nrating_number: 14\\nfeatures: []\\ndescription: []\\nprice: \\nstore: Magece\\ncategories: ['Electronics', 'Computers & Accessories', 'Computer Accessories & Peripherals', 'Keyboards, Mice & Accessories', 'Mice']\\ndetails: {'Brand': 'Magece', 'Item model number': '6868332', 'Hardware Platform': 'PC', 'Item Weight': '3.52 ounces', 'Package Dimensions': '6.2 x 3.8 x 1.8 inches', 'Color': 'Black', 'Manufacturer': 'Generic', 'Is Discontinued By Manufacturer': 'No', 'Date First Available': 'August 23, 2016'}\\ntags: ['Electronics', 'Computers & Accessories', 'Computer Accessories & Peripherals', 'Keyboards, Mice & Accessories', 'Mice']\"),\n",
       " Document(metadata={'source': 'product_info.csv', 'row': 3}, page_content='title: Logitech Cordless Optical Mouse for Notebooks (Red)\\naverage_rating: 4.0\\nrating_number: 10\\nfeatures: [\\'Vivid red brightens your workspace\\', \\'Compact for easy portability\\', \"Logitech\\'s Fast RF technology\", \\'Advanced optical sensor does not require a mouse pad\\', \\'Ambidextrous cordless mouse\\']\\ndescription: [\\'From the Manufacturer\\', \"Here\\'s the mouse designed from the ground up for people on the go. Logitech\\'s Cordless Optical Mouse for Notebooks expertly combines an elegant, compact shape with the advanced features that mobile warriors require. With its convenient carrying case, it\\'s easy to pack it up and take it anywhere. When you\\'re ready to use it, just pop the sleek USB receiver into your notebook and start pointing, clicking, and scrolling. Logitech\\'s Fast RF cordless technology delivers all the convenience and freedom of cordless, with no compromise in performance. And because it\\'s optical, you can use it on almost any flat surface and never clean a mouse ball ever again.\"]\\nprice: \\nstore: Logitech\\ncategories: [\\'Electronics\\', \\'Computers & Accessories\\', \\'Computer Accessories & Peripherals\\', \\'Keyboards, Mice & Accessories\\', \\'Mice\\']\\ndetails: {\\'Package Dimensions\\': \\'7.8 x 5.2 x 2 inches\\', \\'Item Weight\\': \\'10.4 ounces\\', \\'Item model number\\': \\'931151-0403\\', \\'Is Discontinued By Manufacturer\\': \\'No\\', \\'Date First Available\\': \\'February 12, 2004\\', \\'Manufacturer\\': \\'Logitech\\', \\'Language\\': \\'English\\', \\'Brand\\': \\'Logitech\\', \\'Color\\': \\'Red\\', \\'Connectivity Technology\\': \\'Wireless\\', \\'Movement Detection Technology\\': \\'Optical\\', \\'Hand Orientation\\': \\'Ambidextrous\\'}\\ntags: [\\'Electronics\\', \\'Computers & Accessories\\', \\'Computer Accessories & Peripherals\\', \\'Keyboards, Mice & Accessories\\', \\'Mice\\']'),\n",
       " Document(metadata={'source': 'product_info.csv', 'row': 4}, page_content='title: Logitech V200 Cordless Mouse - Silver (931379-0403)\\naverage_rating: 3.6\\nrating_number: 291\\nfeatures: [\\'Tilt wheel lets you scroll side-to-side and zoom in on page details\\', \\'Super-long battery life of up to one year keeps you going\\', \\'Durable design is ideal for business-class mobility\\', \\'5X stronger wireless connection means better range and less interference\\', \\'2.4GHz micro-receiver snaps into mouse for easy transport\\']\\ndescription: [\\'From the Manufacturer\\', \\'Maximize your productivity, where ever you are\\\\x97at your desk, on the road, or even in the conference room down the hall.\\', \\'The Logitech V200 Cordless Notebook Mouse is designed for the demanding mobile professional. Compact, with an unsurpassed battery life of up to one year, the V200 guarantees comfort and reliable performance on the road.\\', \"Its 2.4GHz digital cordless technology provides longer range compared to traditional wireless, and delivers interference-free operation. The 2.4GHz micro-receiver snaps into the mouse for easy transport and turns it off for power efficiency. Invisible Light optical tracking delivers smooth, precise control and the Tilt Wheel Plus Zoom makes side-to-side scrolling effortless. All of this is wrapped up in a durable design that\\'s ideal for business-class mobility.\", \\'Tilt Wheel Plus Zoom. Scroll side-to-side and zoom in on page details.\\', \\'Tilt Wheel Plus Zoom.\\', \\'Scroll side-to-side and zoom in on page details.\\', \\'5X stronger wireless connection: Better range and less interference. 2.4GHz micro-receiver snaps into mouse for easy transport.\\', \\'5X stronger wireless connection:\\', \\'Better range and less interference. 2.4GHz micro-receiver snaps into mouse for easy transport.\\', \\'Keep on going for up to a year with super-long battery life.\\', \\'Keep on going for up to a year\\', \\'with super-long battery life.\\', \\'Take it with you. Durable design is ideal for business-class mobility.\\', \\'Take it with you.\\', \\'Durable design is ideal for business-class mobility.\\', \\'Track your movements accurately with precision optical performance.\\', \\'Track your movements accurately\\', \\'with precision optical performance.\\']\\nprice: 59.99\\nstore: Logitech\\ncategories: [\\'Electronics\\', \\'Computers & Accessories\\', \\'Computer Accessories & Peripherals\\', \\'Keyboards, Mice & Accessories\\', \\'Mice\\']\\ndetails: {\\'Product Dimensions\\': \\'1 x 1 x 1 inches\\', \\'Item Weight\\': \\'2.46 ounces\\', \\'Item model number\\': \\'931379-0403\\', \\'Batteries\\': \\'1 AA batteries required.\\', \\'Best Sellers Rank\\': {\\'Climate Pledge Friendly\\': 54494, \\'Computer Mice\\': 8804, \\'Climate Pledge Friendly: Electronics\\': 11079}, \\'Is Discontinued By Manufacturer\\': \\'No\\', \\'Date First Available\\': \\'July 7, 2004\\', \\'Manufacturer\\': \\'Logitech\\', \\'Language\\': \\'English\\', \\'Brand\\': \\'Logitech\\', \\'Color\\': \\'Silver\\', \\'Connectivity Technology\\': \\'Wireless\\', \\'Special Feature\\': \\'Wireless\\', \\'Movement Detection Technology\\': \\'Optical\\'}\\ntags: [\\'Electronics\\', \\'Computers & Accessories\\', \\'Computer Accessories & Peripherals\\', \\'Keyboards, Mice & Accessories\\', \\'Mice\\']'),\n",
       " Document(metadata={'source': 'product_info.csv', 'row': 5}, page_content=\"title: Razer DEATHADDER Re-Spawn Gaming Mouse\\naverage_rating: 4.3\\nrating_number: 495\\nfeatures: ['3500dpi Razer Precision 3.5G infrared sensor', 'Ergonomic right-handed design', '1000Hz Ultrapolling / 1ms response', 'Five independently programmable Hyperesponse buttons', 'On-The-Fly Sensitivity adjustment']\\ndescription: ['RAZER DeathAdder - New Sensor. Familiar Form Factor. The Razer DeathAdder is the weapon of choice for gamers seeking a combination of comfort and unbridled gaming precision. Enjoy extended gaming sessions in comfort with its right-handed ergonomic form factor crafted for the world of competitive gaming; and when the difference between victory and defeat is determined between heartbeats, the 3500dpi Razer Precision 3.5G infrared sensor translates your every movement into frags with pinpoint accuracy.']\\nprice: \\nstore: Razer\\ncategories: ['Electronics', 'Gaming Accessories', 'Accessories & Peripherals', 'Gaming Mice', 'Razer']\\ndetails: {'Manufacturer': 'Razer', 'Part Number': '8886419330028', 'Item Weight': '14.8 ounces', 'Product Dimensions': '8.66 x 6.3 x 2.76 inches', 'Item model number': 'RZ01-00151400-R3G1', 'Is Discontinued By Manufacturer': 'No', 'Material': 'fiberglass', 'Item Package Quantity': '1', 'Batteries Included?': 'No', 'Batteries Required?': 'No', 'Date First Available': 'May 13, 2010'}\\ntags: ['Electronics', 'Gaming Accessories', 'Accessories & Peripherals', 'Gaming Mice', 'Razer']\"),\n",
       " Document(metadata={'source': 'product_info.csv', 'row': 6}, page_content=\"title: KLO Bluetooth Mouse for MacBook/MacBook air/Pro/iPad, Wireless Mouse for Laptop/Notebook/pc/iPad/Chromebook (BT/A deep Pink-Black)\\naverage_rating: 4.3\\nrating_number: 23550\\nfeatures: ['✪✪3DPI SWITCH:Using high-performance optical chips, up to 1600 dpi(800, 1200, 1600) accurately tracking,to meet different needs.', '✪✪Adopt bluetooth 3.0/5.2 technology,built-in durable 500mAh Lithium polymer rechargeable battery,high cycle life, The charging time is about 1.5-2.5 hours, lasting use time, the Auto Switch Off function will help you save energy as your bluetooth mouse will switch off when your PC is turned off or the receiver is disconnected. If you do not use the mouse for eight minutes, it will go to sleeping mode, you can press the any button to weak it up. energy saving and extremely low power consumption.', '✪✪It is compatible with Mac OS Windows /Win8/10/and is suitable for desktop/ipad/notebook/Mac Macbook Pro/Air(2017/2018/2019/2020/2021) iMac and other devices.', '✪✪contoured shape, Ultra Thin and lightweight design, smooth surface ensure maximum comfort and support for your hand even after long working hours, The rubber scroll wheel makes sure that your hand will not slip when scrolling,This bluetooth mouse can meet your demand of daily office working and personal preference.', '✪✪To provide you with quality after-sales service: any quality problems within a month can be directly returned or replaced.It is recommended to use the USB port of the computer to charge the mouse, or use a 5V 1A charger, no larger than 5V 1A.']\\ndescription: ['Adopt bluetooth 3.0/5.2 technology, built-in 500mAH A product lithium battery, configuration charging line, like a mobile phone, easy to charge, more scientific, charge and discharge of more than 500 times, the mouse no longer need to buy a battery. size: 113mm x 58mm x23mm weight : 3.2 oz package: Bluetooth mouse x1, USB Charging Cable x1 How to use Bluetooth wireless mouse:Apple Mac MacBook/pro/Air 2012/2013/2014/2015/2016/2017/2018/2019: first, open the mouse switch, open the computer system preferences, open the bluetooth, when the computer Bluetooth display is searching for nearby Bluetooth devices, hold down the mouse button (at the bottom of the mouse small black button) and keep 3 to 8 seconds, and then your computer display the search bluetooth mouse, bluetooth device click on the link, and then the connection is successful Win7/8/10/XP series notebook computer usage instructions: First, open the mouse switch, open the computer settings, open the device Bluetooth function, open add Bluetooth, open Bluetooth, when the computer Bluetooth display is searching for nearby Bluetooth devices, hold down the mouse button (at the bottom of the mouse small black button) and keep 3 to 8 seconds, and then your computer display the search bluetooth mouse, bluetooth device click on the link, and then the connection is successful']\\nprice: 14.99\\nstore: KLO\\ncategories: ['Electronics', 'Computers & Accessories', 'Computer Accessories & Peripherals', 'Keyboards, Mice & Accessories', 'Mice']\\ndetails: {'Product Dimensions': '4.5 x 2.2 x 1 inches', 'Item Weight': '3.2 ounces', 'Batteries': '1 Lithium Ion batteries required. (included)', 'Best Sellers Rank': {'Computer Mice': 1315}, 'Date First Available': 'August 31, 2020', 'Manufacturer': 'KLO GD', 'Country of Origin': 'China', 'Brand': 'KLO', 'Color': 'BT/A deep Pink-Black', 'Connectivity Technology': 'Wireless', 'Special Feature': 'Wireless', 'Movement Detection Technology': 'Optical'}\\ntags: ['Electronics', 'Computers & Accessories', 'Computer Accessories & Peripherals', 'Keyboards, Mice & Accessories', 'Mice']\"),\n",
       " Document(metadata={'source': 'product_info.csv', 'row': 7}, page_content='title: 2.4 GHz Wireless Mouse, Six-Button Silent Wireless Computer Mice with 1200/1600/2400 Adjustable Portable USB Mouse for Desktop/Laptop/PC(Gold)\\naverage_rating: 4.5\\nrating_number: 480\\nfeatures: [\\'[Cool design] The appearance of the mouse is modeled by Iron Man. It is cool and stylish, ergonomically designed, and comfortable to touch. Your hands will not feel tired when using for a long time. As a gift to your family, friends are also a great choice.\\', \\'[Responsive] Wireless engineering optical mouse with 1600DPI high precision resolution for fast and sensitive response when connected to a laptop.\\', \"[Easy to connect] Simply connect to the computer\\'s USB port using the configured USB receiver, no additional drivers, plug and play (note: the USB receiver is hidden in the battery compartment)\", \\'[Ultra-quiet design] The wireless gaming mouse has an ultra-quiet design that provides a more relaxing and enjoyable experience for your everyday use without worrying about affecting others around you.\\', \\'[Reliable quality & worry-free warranty] Quality materials and advanced optical sensors, reliable quality; fhong promises to provide you with a one-year free warranty. If you encounter any problems, you can contact us immediately through Amazon, we will be happy to serve you!\\']\\ndescription: [\\'Feature:\\', \\'W Optical interface type USB key number: 4 Optical resolution: 1600 DPI Ergonomics: supports LED mouse: blue LED light System clock: 250Hz Frame type: 3000 frames / sec. Maximum acceleration: 20g Ultra precise scroll wheel Customize DPI switch: 600/1200/1600 DPI Ultra-pretty and low-friction Resulution adjustable in driverless unit Switch life: 5 million cycles Special edition for games, built-in weight Optical technology works on most surfaces Smart connectivity No need to code, plug and play Compatible with Windows XP, Vista, Windows 7, Windows 8, ME, 2000, MAC\\']\\nprice: 15.99\\nstore: fhong\\ncategories: [\\'Electronics\\', \\'Computers & Accessories\\', \\'Computer Accessories & Peripherals\\', \\'Keyboards, Mice & Accessories\\', \\'Mice\\']\\ndetails: {\\'Product Dimensions\\': \\'4.72 x 2.76 x 1.57 inches\\', \\'Item Weight\\': \\'0.705 ounces\\', \\'Manufacturer\\': \\'fhong\\', \\'Country of Origin\\': \\'China\\', \\'Best Sellers Rank\\': {\\'Computer Mice\\': 5374}, \\'Date First Available\\': \\'April 23, 2019\\', \\'Brand\\': \\'Fhong\\', \\'Color\\': \\'Gold\\', \\'Connectivity Technology\\': \\'USB\\', \\'Special Feature\\': \\'Wireless\\', \\'Movement Detection Technology\\': \\'Optical\\'}\\ntags: [\\'Electronics\\', \\'Computers & Accessories\\', \\'Computer Accessories & Peripherals\\', \\'Keyboards, Mice & Accessories\\', \\'Mice\\']'),\n",
       " Document(metadata={'source': 'product_info.csv', 'row': 8}, page_content=\"title: Starfish Computer Mouse with Clear Blue Background\\naverage_rating: 4.0\\nrating_number: 2\\nfeatures: ['Package quantity: 1', 'Product Type: INPUT MOUSE', 'Package weight: 0.3 lb', 'Country of Origin: China']\\ndescription: ['From the Manufacturer', 'This computer mouse has three starfish encased in acrylic on a clear blue background with blue LEFT and RIGHT click buttons. This optical computer mouse has a USB connection and lights up with a variety different colours.Each specimen is unique and different and may differ from the picture shown.']\\nprice: 15.89\\nstore: REALBUG\\ncategories: ['Electronics', 'Computers & Accessories', 'Computer Accessories & Peripherals', 'Keyboards, Mice & Accessories', 'Mice']\\ndetails: {'Product Dimensions': '4.1 x 2.3 x 1.4 inches', 'Item Weight': '5 ounces', 'Domestic Shipping': 'Item can be shipped within U.S.', 'International Shipping': 'This item can be shipped to select countries outside of the U.S.  Learn More', 'Country of Origin': 'China', 'Item model number': 'OCM101', 'Manufacturer recommended age': '5 - 15 years', 'Best Sellers Rank': {'Toys & Games': 1257447, 'Computer Mice': 10653, 'Novelty Toys & Amusements': 75852}, 'Is Discontinued By Manufacturer': 'No', 'Manufacturer': 'Real Cool Bug Company', 'Brand': 'REALBUG', 'Color': 'Clear Blue', 'Connectivity Technology': 'USB', 'Movement Detection Technology': 'Optical', 'Number of Buttons': '3'}\\ntags: ['Electronics', 'Computers & Accessories', 'Computer Accessories & Peripherals', 'Keyboards, Mice & Accessories', 'Mice']\"),\n",
       " Document(metadata={'source': 'product_info.csv', 'row': 9}, page_content=\"title: Logitech Doodle Collection M238 Mouse - Optical - Wireless - 3 Button(s) - Champion Coral\\naverage_rating: 4.6\\nrating_number: 249\\nfeatures: []\\ndescription: ['Scroll to Your Happy Place. A doodle collection wireless mouse takes you far away from the everyday. Choose a distinct and colourful doodle design that expresses your creativity - from floating robot heads to skateboarding cheeseburgers. Plus, the wireless mouse comes with 15 playful and colourful stickers so you can extend your happy place to your laptop, phone and more. Lasts up to 12 months on a single battery. Responds up to 33 feet/10 m with a Nano receiver. Rips through web pages and docs with precision scrolling. Works with the operating systems you already use like Windows, Mac, Chrome OS and Linux. Small-sized so you can carry it with you.']\\nprice: \\nstore: Logitech\\ncategories: ['Electronics', 'Computers & Accessories', 'Computer Accessories & Peripherals', 'Keyboards, Mice & Accessories', 'Mice']\\ndetails: {'Product Dimensions': '3.74 x 2.17 x 1.52 inches', 'Item Weight': '2.96 ounces', 'Item model number': '910-005054', 'Batteries': '1 A batteries required. (included)', 'Best Sellers Rank': {'Climate Pledge Friendly': 31621, 'Computer Mice': 4150, 'Climate Pledge Friendly: Electronics': 6848}, 'Is Discontinued By Manufacturer': 'No', 'Date First Available': 'February 16, 2018', 'Manufacturer': 'Logitech', 'Brand': 'Logitech', 'Color': 'Champion Coral', 'Connectivity Technology': 'Wireless', 'Special Feature': 'Wireless', 'Movement Detection Technology': 'Optical'}\\ntags: ['Electronics', 'Computers & Accessories', 'Computer Accessories & Peripherals', 'Keyboards, Mice & Accessories', 'Mice']\"),\n",
       " Document(metadata={'source': 'product_info.csv', 'row': 10}, page_content='title: Verbatim Wireless Nano Notebook Optical Mouse - Purple\\naverage_rating: 3.6\\nrating_number: 8\\nfeatures: [\\'Nano Receiver\\\\xa0– Small enough to plug in once and leave connected.\\', \\'Wireless\\\\xa0– Plug in nano receiver and go wireless. 2.4GHz reliability and performance.\\', \\'Nano Slot – Convenient nano receiver storage for when you need it.\\', \\'Comfort Grip\\\\xa0- Smooth,\\\\xa0contoured design allows\\\\xa0for comfort and control.\\', \\'Verbatim has been a leader in data storage technology since 1969, and guarantees this product with a limited lifetime warranty and technical support\\']\\ndescription: [\"Tired of mouse receivers that you have to pack up every time you\\'re on the move? Then try Verbatim\\'s Nano Wireless Notebook Mouse. With a receiver that\\'s small enough to plug into your laptop and leave, it offers 2.4GHz wireless performance-that means no delays in cursor movements and fewer cords to pack. The receiver also slides right into the bottom of the mouse for safekeeping. Its sleek design offers a smooth, contoured comfort grip for right or left hand use and a programmable roller button, which means you can assign your favorite features to the roller and make your work easier. If you need a mouse that travels well in tight spaces, this mouse is for you. Small enough to fit easily in work totes, backpacks or even handbags, Verbatim\\'s Nano Notebook Mouse makes it super easy to Go Nano. •Nano Receiver - Small enough to plug in once and leave connected. •Wireless - Plug in nano receiver and go wireless. 2.4GHz reliability and performance. •Nano Slot - Convenient nano receiver storage for when you need it. •Comfort Grip - Smooth, contoured design allows for comfort and control. •Package Includes: Mouse, Nano receiver, 2 x AAA Batteries\"]\\nprice: \\nstore: Verbatim\\ncategories: [\\'Electronics\\', \\'Computers & Accessories\\', \\'Computer Accessories & Peripherals\\', \\'Keyboards, Mice & Accessories\\', \\'Mice\\']\\ndetails: {\\'Product Dimensions\\': \\'3.5 x 2.38 x 1.25 inches\\', \\'Item Weight\\': \\'2.88 ounces\\', \\'Item model number\\': \\'97666\\', \\'Batteries\\': \\'2 AAA batteries required. (included)\\', \\'Is Discontinued By Manufacturer\\': \\'No\\', \\'Date First Available\\': \\'June 1, 2011\\', \\'Manufacturer\\': \\'Verbatim\\', \\'Language\\': \\'English\\', \\'Brand\\': \\'Verbatim\\', \\'Color\\': \\'Purple\\', \\'Connectivity Technology\\': \\'Wireless\\', \\'Special Feature\\': \\'Wireless\\', \\'Movement Detection Technology\\': \\'Optical\\'}\\ntags: [\\'Electronics\\', \\'Computers & Accessories\\', \\'Computer Accessories & Peripherals\\', \\'Keyboards, Mice & Accessories\\', \\'Mice\\']'),\n",
       " Document(metadata={'source': 'product_info.csv', 'row': 11}, page_content=\"title: Apple Mighty Mouse Wired (A1152) - USB Wired Optical Mouse for Computers (Renewed)\\naverage_rating: 4.1\\nrating_number: 162\\nfeatures: []\\ndescription: ['The classic Apple Mighty mouse provides quick connectiibality to any apple product with a usb port']\\nprice: 39.0\\nstore: Amazon Renewed\\ncategories: ['Electronics', 'Computers & Accessories', 'Computer Accessories & Peripherals', 'Keyboards, Mice & Accessories', 'Mice']\\ndetails: {'Package Dimensions': '8 x 5 x 3 inches', 'Item Weight': '1 ounces', 'Manufacturer': 'Apple Computer', 'Best Sellers Rank': {'Amazon Renewed': 2375, 'Computer Mice': 1030}, 'Is Discontinued By Manufacturer': 'No', 'Date First Available': 'January 8, 2020', 'Brand': 'Apple', 'Connectivity Technology': 'Wired, USB', 'Movement Detection Technology': 'Optical', 'Number of Buttons': '3', 'Hand Orientation': 'Ambidextrous'}\\ntags: ['Electronics', 'Computers & Accessories', 'Computer Accessories & Peripherals', 'Keyboards, Mice & Accessories', 'Mice']\"),\n",
       " Document(metadata={'source': 'product_info.csv', 'row': 12}, page_content='title: 2 Pack Wireless Mouse (Battery Included), FD V8 2.4G Slim Silent Travel Cordless Mouses Set Optical Mice Combo with Nano Receiver for Couples, Friends, Colleagues and Parents (Black&Rose Red)\\naverage_rating: 4.4\\nrating_number: 228\\nfeatures: [\\'2.4GHz Wireless ensures reliable connection with a long working distance of up to 20m and 250Hz super high speed rate of return, which eliminates delays, dropouts and interference.\\', \\'Slim, quiet & ergonomic design, GXUV surface treatment technology and comfortable cherry wheel provide all-day comfort for work and entertainment, portable and perfect for travel as well, just enjoy it with its whispery click.\\', \\'Intelligent power saving design eliminates the need to change batteries often. The wireless mouse will enter into power saving mode after 5 minutes free, click left or right button to wake it when you want it to work again, so the on and off switch is not required.\\', \"A tiny USB Nano receiver (stored within the back of the mouse) conveniently slots into your computer\\'s USB port, and takes up minimal space. No need to drive, plug and play directly.\", \"Work with Laptop, Notebook, Computer, PC, Mac, Chrome book and more. Suitable for couples, friends, colleagues, parents, husband and wife. 30 days money-back & 6-months guaranty, any problems, please don\\'t hesitate to get an after-sale service.\"]\\ndescription: []\\nprice: \\nstore: FD\\ncategories: [\\'Electronics\\', \\'Computers & Accessories\\', \\'Computer Accessories & Peripherals\\', \\'Keyboards, Mice & Accessories\\', \\'Mice\\']\\ndetails: {\\'Brand\\': \\'FD\\', \\'Hardware Platform\\': \\'PC\\', \\'Item Weight\\': \\'7.4 ounces\\', \\'Product Dimensions\\': \\'4.5 x 2.8 x 1.8 inches\\', \\'Item Dimensions  LxWxH\\': \\'4.5 x 2.8 x 1.8 inches\\', \\'Color\\': \\'Black+Purple\\', \\'Batteries\\': \\'2 AA batteries required.\\', \\'Manufacturer\\': \\'FD\\', \\'Is Discontinued By Manufacturer\\': \\'No\\', \\'Date First Available\\': \\'December 7, 2017\\', \\'Best Sellers Rank\\': {\\'Computer Mice\\': 3606}, \\'Connectivity Technology\\': \\'Wireless, USB\\', \\'Special Feature\\': \\'Wireless\\', \\'Movement Detection Technology\\': \\'Optical\\'}\\ntags: [\\'Electronics\\', \\'Computers & Accessories\\', \\'Computer Accessories & Peripherals\\', \\'Keyboards, Mice & Accessories\\', \\'Mice\\']'),\n",
       " Document(metadata={'source': 'product_info.csv', 'row': 13}, page_content='title: Logitech M585 Multi-Device Wireless Mouse – Control and Move Text/Images/Files Between 2 Windows and Apple Mac Computers and Laptops with Bluetooth or USB, 2 Year Battery Life, Graphite\\naverage_rating: 4.6\\nrating_number: 3498\\nfeatures: [\\'CROSS-COMPUTER CONTROL\\\\xa0- Game-changing capacity to navigate seamlessly on two computers, and copy-paste text, images, and files from one to the other using Logitech FLOW\\', \\'DUAL CONNECTIVITY\\\\xa0- Use with up to three Windows or Mac computers and laptops via included Unifying receiver or Bluetooth Smart wireless technology\\', \\'LONG BATTERY LIFE- The Logitech M585 just keeps going, with 2 years of power on a single AA battery\\', \\'ULTRA-PRECISE SCROLLING- Micro-precision wheel packs more grooves per millimeter to make scrolling through long webpages faster and easier\\', \\'CURVED DESIGN - Domed shape provides right hand support for your palm comfortably during long hours of work or play\\', \\'Note : In case of Wireless mouse, the USB receiver will be provided inside or along with the mouse\\']\\ndescription: [\"Talk about a game changer! With Logitech FLOW, M585 Multi-Device has the almost magical capacity to navigate seamlessly on two computers and copy-paste from one to the other – even if you\\'re using a PC and a Mac. It certainly beats sending yourself emails. M585 also comes with a host of other features to improve your productivity, your way: fast and easy scrolling through long web pages; five programmable buttons, including two handy thumb buttons; a 2-year battery life** and a curved, domed shape that supports your palm comfortably during long hours of work or play. Dual connectivity (Bluetooth or 2.4 GHz Logitech Unifying). System Requirements: Required: Bluetooth low energy technologyWindows 10 or later Windows 8Mac OS X 10.10 or lateChrome OSAndroid 5.0 or later|Required: Available USB portWindows 10 or later Windows 8 Windows 7Mac OS X 10.05 or laterChrome OS|Internet connection for software download USB port.\"]\\nprice: 28.82\\nstore: Logitech\\ncategories: [\\'Electronics\\', \\'Computers & Accessories\\', \\'Computer Accessories & Peripherals\\', \\'Keyboards, Mice & Accessories\\', \\'Mice\\']\\ndetails: {\\'Wireless Type\\': \\'Bluetooth\\', \\'Brand\\': \\'Logitech\\', \\'Series\\': \\'910-005012\\', \\'Item model number\\': \\'910-005012\\', \\'Hardware Platform\\': \\'Laptop, PC\\', \\'Operating System\\': \\'Windows 10, 11 or later, Linux +no software support legal footnote, Chrome OS, macOS 10.5 or later, iPadOS 13.4 or later, Android 5.0 or later\\', \\'Item Weight\\': \\'3.52 ounces\\', \\'Product Dimensions\\': \\'3.27 x 4.05 x 4.96 inches\\', \\'Item Dimensions  LxWxH\\': \\'3.27 x 4.05 x 4.96 inches\\', \\'Color\\': \\'Graphite\\', \\'Power Source\\': \\'AC\\', \\'Batteries\\': \\'1 Lithium Polymer batteries required. (included)\\', \\'Manufacturer\\': \\'Logitech\\', \\'Is Discontinued By Manufacturer\\': \\'No\\', \\'Date First Available\\': \\'June 1, 2017\\', \\'Best Sellers Rank\\': {\\'Climate Pledge Friendly\\': 2759, \\'Computer Mice\\': 89, \\'Climate Pledge Friendly: Computers\\': 159}, \\'Connectivity Technology\\': \\'USB\\', \\'Special Feature\\': \\'Wireless\\', \\'Movement Detection Technology\\': \\'Optical\\'}\\ntags: [\\'Electronics\\', \\'Computers & Accessories\\', \\'Computer Accessories & Peripherals\\', \\'Keyboards, Mice & Accessories\\', \\'Mice\\']'),\n",
       " Document(metadata={'source': 'product_info.csv', 'row': 14}, page_content=\"title: Fasnd Mouse Jiggler, Undetectable Mouse jiggler for Computer Laptop Awakening, No Software, Automatic Mouse Mover, Keeps Computer Alive, with Switch and USB to USB-C Adapter\\naverage_rating: 4.5\\nrating_number: 147\\nfeatures: ['100% Undetectable: No need to plug into a computer laptop, the mouse jiggler can use a wall adapter or a computer USB port (just connect power to the undetectable mouse jiggler), it will simulate physical mouse movement, it will not be scanned by hardware and Company IT detected. No software installation is required.', 'Simple to Operate, Easy to Use: it has two modes to adjust. Short press the switch to turn on the mode 1 by default, then press the switch to switch to mode 2, press the third time to shut down. Simple operation can keep your computer active online, and the cursor will not be stuck in the corner of the computer screen. Prevent your computer from going to sleep, start the screen saver and prevent your computer from quitting, so you can do what you want to do with peace of mind.', 'High Quality, Low Noise: The mouse mover jiggler has a built-in ultra-quiet motor, which only emits a soft sound and will not affect others. It does not need to be plugged and unplugged frequently during use, which effectively prolongs the service life. With a USB to USB-C port conversion connector, there is no need to worry about communication with the mouse,The USB-C port of the computer cannot be connected, it is easy to use, and it is a good partner for balancing work and leisure time.', 'Wide Compatibility: Suitable for many occasions, such as remote office, ppt presentation, online meeting or game, etc. Keep the cursor moving all the time. Compatible with all operating systems Windows XP/7/8/10, Mac OS, Linux systems, etc. Compatible with wireless mouse and wired mouse, it is definitely a perfect gift choice for family friends, colleagues. (Note: We do not recommend Use it for a trackball mouse.)', 'Packing List: Mouse Mover Jiggler x 1, USB to USB-C adapter x 1, USB-C charging cable x 1, User manual x 1. If you have any questions or received damaged, defective item, please feel free to contact us, We will solve all problems for you within 24 hours.']\\ndescription: []\\nprice: 15.99\\nstore: Fasnd\\ncategories: ['Electronics', 'Computers & Accessories', 'Computer Accessories & Peripherals', 'Keyboards, Mice & Accessories', 'Mice']\\ndetails: {'Package Dimensions': '6.5 x 3.66 x 1.65 inches', 'Item Weight': '6.4 ounces', 'Item model number': 'M4', 'Best Sellers Rank': {'Computer Mice': 690}, 'Date First Available': 'November 22, 2022', 'Manufacturer': 'Fasnd', 'Country of Origin': 'China', 'Brand': 'Fasnd', 'Connectivity Technology': 'Wireless, Wired, USB', 'Special Feature': 'Wireless', 'Movement Detection Technology': 'Trackball', 'Hand Orientation': 'Ambidextrous'}\\ntags: ['Electronics', 'Computers & Accessories', 'Computer Accessories & Peripherals', 'Keyboards, Mice & Accessories', 'Mice']\"),\n",
       " Document(metadata={'source': 'product_info.csv', 'row': 15}, page_content='title: Doukible Type C Wireless Mouse, Dual Mode 2.4G & USB C Wireless Mouse for Mac, Windows, Computer, Laptop, PC, MacBook, iPad - Blue\\naverage_rating: 3.8\\nrating_number: 59\\nfeatures: [\\'【2-in-1 Typc-C and 2.4G USB Wireless】The wireless macbook mouse provids a 2-in-1 USB and TYPE-C Nano receiver, no need to install any driver, just plug the receiver into the USB or TYPE C port of your device, let you worry-free use of any device.\\', \\'【3 Adjustable DPI 】3-Level adjustable DPI (1000/1600/2400 DPI), freely to satisfy daily work. Switching by the DPI button, making the movements of your cursor faster or slower depending on your needs.\\', \\'【Back/Forward Buttons】Our ergonomic wireless mouse has a back and forward button on the left side of the mouse, provides much convenience when browsing webpage or moving documents with minimal hand movement.\\', \\'【Quite Click Mouse】The portable travel mouse is completely silent when used, no worry about disturbing others, and the button life more than 3 million times.(Note: Needs 1 AA battery, NOT included)\\', \\'【Wide Compatibility】Wided Connect with Laptop/PC/Desktop/Windows XP/7/8/10 and MAC OS 10. Fits for all Type-C devices, iPad, tablet, cellphone, Macbook, Macbook Pro, iMac, iMac Pro, Chromebook and more\\']\\ndescription: [\\'Type C and 2.4G Wireless Mouse:\\', \\'This wireless mouse is convenient and practical. It can be used for Windows systems and Mac OS systems. You only need to press a button to select the device you want to connect to.\\', \\'Features:\\', \"▶Plug & Play Tiny wireless receiver conveniently slots into your computer\\'s USB port or type C port, taking up minimal space ▶ Soft silent clicking is perfect for work or entertainment in a quiet environment ▶Responsive buttons and 3 grade DPI (1000/1600/2400 DPI) for precise tracking ▶Works with Laptop/PC/Desktop/Windows XP/7/8/10 and MAC OS 10 or later ▶Offer one year warranty, you can buy it without any worries\", \\'Note:\\', \\'Please open the battery cover and take out the type C and 2.4G USB receiver, and then plug it into the port of your device separately  2. 1*AA battery is needed, but not included\\', \\'Specifications:\\', \\'DPI level: 1000/1600/2400 DPI\\', \\'Compatibility:\\', \\'Laptop/PC/Desktop/Windows XP/7/8/10 and MAC OS 10 and more\\', \\'Package Include:\\', \\'1 x 2.4G Wireless Mouse 1 x USB and TYPE-C nano Receiver (under the battery cover)  1 x User manual\\']\\nprice: 11.99\\nstore: Doukible\\ncategories: [\\'Electronics\\', \\'Computers & Accessories\\', \\'Computer Accessories & Peripherals\\', \\'Keyboards, Mice & Accessories\\', \\'Mice\\']\\ndetails: {\\'Package Dimensions\\': \\'4.65 x 2.83 x 1.73 inches\\', \\'Item Weight\\': \\'3.2 ounces\\', \\'Best Sellers Rank\\': {\\'Computer Mice\\': 1691}, \\'Date First Available\\': \\'December 28, 2022\\', \\'Manufacturer\\': \\'Doukible\\', \\'Country of Origin\\': \\'China\\', \\'Brand\\': \\'Doukible\\', \\'Color\\': \\'Blue\\', \\'Connectivity Technology\\': \\'USB\\', \\'Special Feature\\': \\'Wireless, Portable, Lightweight\\', \\'Number of Buttons\\': \\'3\\'}\\ntags: [\\'Electronics\\', \\'Computers & Accessories\\', \\'Computer Accessories & Peripherals\\', \\'Keyboards, Mice & Accessories\\', \\'Mice\\']'),\n",
       " Document(metadata={'source': 'product_info.csv', 'row': 16}, page_content=\"title: Optical 2 Button USB Mouse in Beige\\naverage_rating: 5.0\\nrating_number: 1\\nfeatures: ['Connectivity - Cable', 'Color - Beige', 'Button Count - 2-button', 'System Requirements -- Microsoft compatible driver, USB port', 'Agency Approvals -- FCC Class B, CE, UL']\\ndescription: ['na']\\nprice: \\nstore: KeyTronicEMS\\ncategories: ['Electronics', 'Computers & Accessories', 'Computer Accessories & Peripherals', 'Keyboards, Mice & Accessories', 'Mice']\\ndetails: {'Product Dimensions': '5.3 x 3.8 x 1.8 inches', 'Item Weight': '4 ounces', 'Item model number': '2MOUSEU1L', 'Is Discontinued By Manufacturer': 'No', 'Date First Available': 'March 16, 2008', 'Manufacturer': 'Key Tronic', 'Language': 'English', 'Brand': 'KeyTronicEMS', 'Color': 'beige', 'Connectivity Technology': 'USB', 'Movement Detection Technology': 'Optical', 'Number of Buttons': '2'}\\ntags: ['Electronics', 'Computers & Accessories', 'Computer Accessories & Peripherals', 'Keyboards, Mice & Accessories', 'Mice']\"),\n",
       " Document(metadata={'source': 'product_info.csv', 'row': 17}, page_content='title: Samsung Bluetooth Mouse Slim, Compact, Wireless, Silent Clicks, for Laptop,Tablet,MacBook,Android,Windows | Easy Pairing with Samsung PC, Mobile Devices | Swift Pairing with Windows10 and 11 - Black\\naverage_rating: 4.5\\nrating_number: 52\\nfeatures: [\\'Samsung Bluetooth Mouse Slim, Compact, Wireless, Silent Clicks, for Laptop, Tablet, Macbook, Android, Windows | Easy Pairing with Samsung PC & Mobile Devices | (Swift Pairing with Windows10 and 11 - Black\\', \"Portable and elegant, the Bluetooth Mouse Slim lets you set up and get to work with all-day comfort. The sculpted design supports your hand for a good grip, and it\\'s slim enough to slip into your laptop bag so you can keep it on hand.\", \\'Pairing the mouse is as easy as following the instructions in the pop-up on your laptop. When you put the mouse in pairing mode, your laptop will discover it, and you can quickly connect and get back on track with wireless comfort.\\']\\ndescription: [\\'Samsung Bluetooth Mouse Slim, Compact, Wireless, Silent Clicks, for Laptop, Tablet, Macbook, Android, Windows | Easy Pairing with Samsung PC & Mobile Devices | (Swift Pairing with Windows10 and 11 - Black\\']\\nprice: 52.88\\nstore: SAMSUNG\\ncategories: [\\'Electronics\\', \\'Computers & Accessories\\', \\'Computer Accessories & Peripherals\\', \\'Keyboards, Mice & Accessories\\', \\'Mice\\']\\ndetails: {\\'Package Dimensions\\': \\'6.34 x 3.58 x 1.46 inches\\', \\'Item Weight\\': \\'1.76 ounces\\', \\'Item model number\\': \\'EJ-M3400DBEGCA\\', \\'Batteries\\': \\'1 Lithium Ion batteries required. (included)\\', \\'Best Sellers Rank\\': {\\'Computer Mice\\': 599}, \\'Date First Available\\': \\'June 23, 2022\\', \\'Manufacturer\\': \\'Samsung\\', \\'Brand\\': \\'SAMSUNG\\', \\'Color\\': \\'black\\', \\'Connectivity Technology\\': \\'Wireless, Bluetooth\\', \\'Special Feature\\': \\'Wireless\\', \\'Number of Buttons\\': \\'3\\'}\\ntags: [\\'Electronics\\', \\'Computers & Accessories\\', \\'Computer Accessories & Peripherals\\', \\'Keyboards, Mice & Accessories\\', \\'Mice\\']'),\n",
       " Document(metadata={'source': 'product_info.csv', 'row': 18}, page_content=\"title: Vertical Ergonomic Optical Mouse Blue By Equal Sign\\naverage_rating: 2.8\\nrating_number: 4\\nfeatures: ['Fashion modeling', 'Good flexibility', 'Easy to use', 'Vertical Design', 'Red Mouse']\\ndescription: ['Vertical Ergonomic Optical Mouse combines break-through comfort with a host of productivity enhancing features unlike any mouse on the market today. Switch Operating Force: 60 ± 15GF Key operating force: 80 ± 20GF 5D button operation force: 170 ± 30GF (vertical force center mouse button) Switch life 5 million  Cable length ：150CM High resolution (1000dpi) Applicable models: IBM/PC/AT/XT/386/486/PENTIUM Operating system environment: DOS, WIN95/98/2000/ME/XP/NT  Operating voltage: DC5 ± 5% Operating current: ≤ 100MA  Working conditions Temperature:-45oC-50oC Humidity: not more than 85% RH  Transmission Interface ：USB2.0 full-speed transmission \\\\u3000Number of buttons： 5  Life of 5 million key switch life Certification testing: CE.ROHS, FCC']\\nprice: \\nstore: Equal Sign\\ncategories: ['Electronics', 'Computers & Accessories', 'Computer Accessories & Peripherals', 'Keyboards, Mice & Accessories', 'Mice']\\ndetails: {'Product Dimensions': '3.54 x 3.54 x 2.76 inches', 'Item Weight': '4 ounces', 'Manufacturer': 'Equal sign', 'Item model number': 'BC71941', 'Date First Available': 'April 15, 2013', 'Brand': 'Equal Sign', 'Color': 'Blue', 'Connectivity Technology': 'USB', 'Movement Detection Technology': 'Optical', 'Compatible Devices': 'Personal Computer'}\\ntags: ['Electronics', 'Computers & Accessories', 'Computer Accessories & Peripherals', 'Keyboards, Mice & Accessories', 'Mice']\"),\n",
       " Document(metadata={'source': 'product_info.csv', 'row': 19}, page_content=\"title: WolfLawS Wireless Mouse, 2.4G Silm Computer Mouse USB Optical Silent Mice with Nano Receiver, Portable Computer Mice for PC Mac Laptop Notebook Chromebook\\naverage_rating: 4.3\\nrating_number: 57\\nfeatures: ['2.4G Wireless Technology - 2.4GHz wireless offers stable connection and precise track. By connecting the USB receiver with the USB port, you could use it at anytime and anywhere, no delays and interference. And please note that 2.4G connection distance cannot be over 33ft. NOTE: The mouse cursor would move slowly, unstable or stop moving at low battery, please replace the battery in time, while being full battery capacity, it would work normally again.', 'Ergonomic Design & Durable Quality -- Taking silm and lightweight design offers you better touch and using experience. Ergonomic design makes sure you would not feel uncomfortable even a long-session using, while USB Nano receiver is embedded in the back of the mouse, better and more convenient to put in. 3 million times keystroke tested, gives you reliable durability.', 'Portable and Easy to Take -- Portable size: 4.3in*2.6in*1.1in, which is easy and convenient for you to take the mouse anywhere, use it at anytime you need even outdoors, well for learing, office use and library use,etc.', '1 AA Battery Needed and Silent Click -- Only 1 AA battery(not included) required,then you can use it, no need any drivers installed. Noiseless clicks bring you better user experience, never worried that you would bother others while using.', 'Universal Compatibility -- Compatible with Windows XP, Vista, Windows 7, Windows 8, Windows 10, Mac OS X 10.4 etc. Adaptable for Notebook, PC, laptop, Computer, Macbook and so on.']\\ndescription: []\\nprice: 9.99\\nstore: WolfLawS\\ncategories: ['Electronics', 'Computers & Accessories', 'Computer Accessories & Peripherals', 'Keyboards, Mice & Accessories', 'Mice']\\ndetails: {'Package Dimensions': '4.92 x 2.95 x 1.54 inches', 'Item Weight': '2.39 ounces', 'Item model number': 'KM-9', 'Best Sellers Rank': {'Computer Mice': 2136}, 'Date First Available': 'September 22, 2022', 'Manufacturer': 'WolfLawS', 'Brand': 'WolfLawS', 'Connectivity Technology': 'Wireless, USB', 'Special Feature': 'Portable, Lightweight, Ergonomic Design', 'Movement Detection Technology': 'Optical', 'Number of Buttons': '3'}\\ntags: ['Electronics', 'Computers & Accessories', 'Computer Accessories & Peripherals', 'Keyboards, Mice & Accessories', 'Mice']\")]"
      ]
     },
     "execution_count": 4,
     "metadata": {},
     "output_type": "execute_result"
    }
   ],
   "source": [
    "documents"
   ]
  },
  {
   "cell_type": "code",
   "execution_count": 5,
   "metadata": {},
   "outputs": [
    {
     "name": "stdout",
     "output_type": "stream",
     "text": [
      "page_content='title: Braveman USB Wired Mouse, 3 Buttons, 4 LED Backlit and 4 Adjustable DPI Level(800/1200/1600/2400) Compatible with Desktop/Laptop/PC - Red\n",
      "average_rating: 4.2\n",
      "rating_number: 8\n",
      "features: ['【Buy one get one mouse pad by adding both to cart】Adjustable DPI & LED backlit - 4-level adjustable DPI(800/1200/1600/2400). The optical sensor works precisely with different tracking speed. Ideal for web surfing, competitive gaming, and photo editing. The breathing light will be switched to red/blue/green/purple', 'Compact, Ergonomic & Symmetrical Design - Low-friction base smoothly glides over work surfaces. Ergo-design naturally fits your hand and relieves fatigue for long-term use. High-precise optical sensor and sturdy construction deliver reliable performance', 'Simple to Use - 3 buttons and 1 scroll wheel for improving efficiency, just \"plug and play\". No additional software, drive or firmware required.', 'Support System - Works with Windows 2000/7/8/10/XP/Vista/ME Mac OS System for gaming or office job', 'Warranty - One year 100% satisfied quality guarantee. Any questions, feel free to contact us.']\n",
      "description: ['FEATURES', 'Strongly precision, dependable optical technology', 'High-precise optical sensor and sturdy construction deliver reliable performance.', 'Low-friction base smoothly glides over work surfaces', 'Plug and play directly, NO driver needed', 'SPECIFICATION', 'Report rate: 500Hz', 'Buttons: 3 Buttons', 'DPI: 800-1200-1600-2400', 'Backlit: Red/Yellow/Purple/White', 'Switch life: 5 million', 'Body color: Red', 'Weight: 0.3 pounds', 'Package Dimension: 5.51 X 3.7 X 1.69 inches', 'SUPPORT SYSTEM', 'Supports Windows 2000/7/8/10/XP/Vista/ME System Mac OS for normal using.', 'WARRANTY', 'Backed by a 12-month warranty, free replacement or a full refund against defects in materials and workmanship.']\n",
      "price: \n",
      "store: Braveman\n",
      "categories: ['Electronics', 'Computers & Accessories', 'Computer Accessories & Peripherals', 'Keyboards, Mice & Accessories', 'Mice']\n",
      "details: {'Product Dimensions': '5.51 x 3.7 x 1.69 inches', 'Item Weight': '3.66 ounces', 'Manufacturer': 'Braveman', 'Is Discontinued By Manufacturer': 'No', 'Date First Available': 'January 30, 2018', 'Brand': 'Braveman', 'Color': 'red-wired', 'Connectivity Technology': 'Wired, USB', 'Special Feature': 'Ergonomic Design', 'Movement Detection Technology': 'Optical'}\n",
      "tags: ['Electronics', 'Computers & Accessories', 'Computer Accessories & Peripherals', 'Keyboards, Mice & Accessories', 'Mice']' metadata={'source': 'product_info.csv', 'row': 0}\n"
     ]
    }
   ],
   "source": [
    "print(documents[0])"
   ]
  },
  {
   "cell_type": "code",
   "execution_count": 6,
   "metadata": {},
   "outputs": [],
   "source": [
    "def save_to_pickle(obj, filename):\n",
    "    with open(filename, \"wb\") as file:\n",
    "        pickle.dump(obj, file, pickle.HIGHEST_PROTOCOL)\n",
    "\n",
    "def load_from_pickle(filename):\n",
    "    with open(filename, \"rb\") as file:\n",
    "        return pickle.load(file)\n",
    "\n",
    "#save_to_pickle(retriever.doc_store.store, docstore_path)"
   ]
  },
  {
   "cell_type": "code",
   "execution_count": 7,
   "metadata": {},
   "outputs": [],
   "source": [
    "child_splitter = RecursiveCharacterTextSplitter(chunk_size=600)\n",
    "vector_store = Chroma(\n",
    "    collection_name=\"product\",\n",
    "    embedding_function=embeddings,\n",
    "    persist_directory=\"./parentDB\"\n",
    ")"
   ]
  },
  {
   "cell_type": "code",
   "execution_count": 8,
   "metadata": {},
   "outputs": [],
   "source": [
    "store = InMemoryStore()\n",
    "retriever = ParentDocumentRetriever(\n",
    "    vectorstore=vector_store,\n",
    "    docstore=store,\n",
    "    child_splitter=child_splitter,\n",
    ")"
   ]
  },
  {
   "cell_type": "code",
   "execution_count": 10,
   "metadata": {},
   "outputs": [],
   "source": [
    "retriever.add_documents(documents, ids=None)"
   ]
  },
  {
   "cell_type": "code",
   "execution_count": 11,
   "metadata": {},
   "outputs": [
    {
     "data": {
      "text/plain": [
       "20"
      ]
     },
     "execution_count": 11,
     "metadata": {},
     "output_type": "execute_result"
    }
   ],
   "source": [
    "len(list(store.yield_keys()))"
   ]
  },
  {
   "cell_type": "code",
   "execution_count": 12,
   "metadata": {},
   "outputs": [
    {
     "data": {
      "text/plain": [
       "125"
      ]
     },
     "execution_count": 12,
     "metadata": {},
     "output_type": "execute_result"
    }
   ],
   "source": [
    "len(vector_store.get()['documents'])"
   ]
  },
  {
   "cell_type": "markdown",
   "metadata": {},
   "source": [
    "### Save the retriever locally for later usage"
   ]
  },
  {
   "cell_type": "code",
   "execution_count": 13,
   "metadata": {},
   "outputs": [],
   "source": [
    "save_to_pickle(retriever.docstore.store, \"docstore.pkl\")"
   ]
  },
  {
   "cell_type": "markdown",
   "metadata": {},
   "source": [
    "### Load the docstore and reconstruct the retriever"
   ]
  },
  {
   "cell_type": "code",
   "execution_count": 14,
   "metadata": {},
   "outputs": [],
   "source": [
    "db = Chroma(\n",
    "    collection_name=\"product\",\n",
    "    embedding_function=embeddings,\n",
    "    persist_directory=\"./parentDB\"\n",
    ")\n",
    "store_dict = load_from_pickle(\"docstore.pkl\")\n",
    "store = InMemoryStore()\n",
    "store.mset(list(store_dict.items()))"
   ]
  },
  {
   "cell_type": "code",
   "execution_count": 26,
   "metadata": {},
   "outputs": [],
   "source": [
    "retriever = ParentDocumentRetriever(\n",
    "    vectorstore=db,\n",
    "    docstore=store,\n",
    "    child_splitter=child_splitter,\n",
    "    search_kwargs={\"k\": 5}\n",
    ")"
   ]
  },
  {
   "cell_type": "code",
   "execution_count": 27,
   "metadata": {},
   "outputs": [],
   "source": [
    "retrieved_docs = retriever.invoke(\"comfort of wear\")"
   ]
  },
  {
   "cell_type": "code",
   "execution_count": 28,
   "metadata": {},
   "outputs": [
    {
     "data": {
      "text/plain": [
       "[Document(metadata={'source': 'product_info.csv', 'row': 0}, page_content='title: Braveman USB Wired Mouse, 3 Buttons, 4 LED Backlit and 4 Adjustable DPI Level(800/1200/1600/2400) Compatible with Desktop/Laptop/PC - Red\\naverage_rating: 4.2\\nrating_number: 8\\nfeatures: [\\'【Buy one get one mouse pad by adding both to cart】Adjustable DPI & LED backlit - 4-level adjustable DPI(800/1200/1600/2400). The optical sensor works precisely with different tracking speed. Ideal for web surfing, competitive gaming, and photo editing. The breathing light will be switched to red/blue/green/purple\\', \\'Compact, Ergonomic & Symmetrical Design - Low-friction base smoothly glides over work surfaces. Ergo-design naturally fits your hand and relieves fatigue for long-term use. High-precise optical sensor and sturdy construction deliver reliable performance\\', \\'Simple to Use - 3 buttons and 1 scroll wheel for improving efficiency, just \"plug and play\". No additional software, drive or firmware required.\\', \\'Support System - Works with Windows 2000/7/8/10/XP/Vista/ME Mac OS System for gaming or office job\\', \\'Warranty - One year 100% satisfied quality guarantee. Any questions, feel free to contact us.\\']\\ndescription: [\\'FEATURES\\', \\'Strongly precision, dependable optical technology\\', \\'High-precise optical sensor and sturdy construction deliver reliable performance.\\', \\'Low-friction base smoothly glides over work surfaces\\', \\'Plug and play directly, NO driver needed\\', \\'SPECIFICATION\\', \\'Report rate: 500Hz\\', \\'Buttons: 3 Buttons\\', \\'DPI: 800-1200-1600-2400\\', \\'Backlit: Red/Yellow/Purple/White\\', \\'Switch life: 5 million\\', \\'Body color: Red\\', \\'Weight: 0.3 pounds\\', \\'Package Dimension: 5.51 X 3.7 X 1.69 inches\\', \\'SUPPORT SYSTEM\\', \\'Supports Windows 2000/7/8/10/XP/Vista/ME System Mac OS for normal using.\\', \\'WARRANTY\\', \\'Backed by a 12-month warranty, free replacement or a full refund against defects in materials and workmanship.\\']\\nprice: \\nstore: Braveman\\ncategories: [\\'Electronics\\', \\'Computers & Accessories\\', \\'Computer Accessories & Peripherals\\', \\'Keyboards, Mice & Accessories\\', \\'Mice\\']\\ndetails: {\\'Product Dimensions\\': \\'5.51 x 3.7 x 1.69 inches\\', \\'Item Weight\\': \\'3.66 ounces\\', \\'Manufacturer\\': \\'Braveman\\', \\'Is Discontinued By Manufacturer\\': \\'No\\', \\'Date First Available\\': \\'January 30, 2018\\', \\'Brand\\': \\'Braveman\\', \\'Color\\': \\'red-wired\\', \\'Connectivity Technology\\': \\'Wired, USB\\', \\'Special Feature\\': \\'Ergonomic Design\\', \\'Movement Detection Technology\\': \\'Optical\\'}\\ntags: [\\'Electronics\\', \\'Computers & Accessories\\', \\'Computer Accessories & Peripherals\\', \\'Keyboards, Mice & Accessories\\', \\'Mice\\']'),\n",
       " Document(metadata={'source': 'product_info.csv', 'row': 18}, page_content=\"title: Vertical Ergonomic Optical Mouse Blue By Equal Sign\\naverage_rating: 2.8\\nrating_number: 4\\nfeatures: ['Fashion modeling', 'Good flexibility', 'Easy to use', 'Vertical Design', 'Red Mouse']\\ndescription: ['Vertical Ergonomic Optical Mouse combines break-through comfort with a host of productivity enhancing features unlike any mouse on the market today. Switch Operating Force: 60 ± 15GF Key operating force: 80 ± 20GF 5D button operation force: 170 ± 30GF (vertical force center mouse button) Switch life 5 million  Cable length ：150CM High resolution (1000dpi) Applicable models: IBM/PC/AT/XT/386/486/PENTIUM Operating system environment: DOS, WIN95/98/2000/ME/XP/NT  Operating voltage: DC5 ± 5% Operating current: ≤ 100MA  Working conditions Temperature:-45oC-50oC Humidity: not more than 85% RH  Transmission Interface ：USB2.0 full-speed transmission \\\\u3000Number of buttons： 5  Life of 5 million key switch life Certification testing: CE.ROHS, FCC']\\nprice: \\nstore: Equal Sign\\ncategories: ['Electronics', 'Computers & Accessories', 'Computer Accessories & Peripherals', 'Keyboards, Mice & Accessories', 'Mice']\\ndetails: {'Product Dimensions': '3.54 x 3.54 x 2.76 inches', 'Item Weight': '4 ounces', 'Manufacturer': 'Equal sign', 'Item model number': 'BC71941', 'Date First Available': 'April 15, 2013', 'Brand': 'Equal Sign', 'Color': 'Blue', 'Connectivity Technology': 'USB', 'Movement Detection Technology': 'Optical', 'Compatible Devices': 'Personal Computer'}\\ntags: ['Electronics', 'Computers & Accessories', 'Computer Accessories & Peripherals', 'Keyboards, Mice & Accessories', 'Mice']\"),\n",
       " Document(metadata={'source': 'product_info.csv', 'row': 6}, page_content=\"title: KLO Bluetooth Mouse for MacBook/MacBook air/Pro/iPad, Wireless Mouse for Laptop/Notebook/pc/iPad/Chromebook (BT/A deep Pink-Black)\\naverage_rating: 4.3\\nrating_number: 23550\\nfeatures: ['✪✪3DPI SWITCH:Using high-performance optical chips, up to 1600 dpi(800, 1200, 1600) accurately tracking,to meet different needs.', '✪✪Adopt bluetooth 3.0/5.2 technology,built-in durable 500mAh Lithium polymer rechargeable battery,high cycle life, The charging time is about 1.5-2.5 hours, lasting use time, the Auto Switch Off function will help you save energy as your bluetooth mouse will switch off when your PC is turned off or the receiver is disconnected. If you do not use the mouse for eight minutes, it will go to sleeping mode, you can press the any button to weak it up. energy saving and extremely low power consumption.', '✪✪It is compatible with Mac OS Windows /Win8/10/and is suitable for desktop/ipad/notebook/Mac Macbook Pro/Air(2017/2018/2019/2020/2021) iMac and other devices.', '✪✪contoured shape, Ultra Thin and lightweight design, smooth surface ensure maximum comfort and support for your hand even after long working hours, The rubber scroll wheel makes sure that your hand will not slip when scrolling,This bluetooth mouse can meet your demand of daily office working and personal preference.', '✪✪To provide you with quality after-sales service: any quality problems within a month can be directly returned or replaced.It is recommended to use the USB port of the computer to charge the mouse, or use a 5V 1A charger, no larger than 5V 1A.']\\ndescription: ['Adopt bluetooth 3.0/5.2 technology, built-in 500mAH A product lithium battery, configuration charging line, like a mobile phone, easy to charge, more scientific, charge and discharge of more than 500 times, the mouse no longer need to buy a battery. size: 113mm x 58mm x23mm weight : 3.2 oz package: Bluetooth mouse x1, USB Charging Cable x1 How to use Bluetooth wireless mouse:Apple Mac MacBook/pro/Air 2012/2013/2014/2015/2016/2017/2018/2019: first, open the mouse switch, open the computer system preferences, open the bluetooth, when the computer Bluetooth display is searching for nearby Bluetooth devices, hold down the mouse button (at the bottom of the mouse small black button) and keep 3 to 8 seconds, and then your computer display the search bluetooth mouse, bluetooth device click on the link, and then the connection is successful Win7/8/10/XP series notebook computer usage instructions: First, open the mouse switch, open the computer settings, open the device Bluetooth function, open add Bluetooth, open Bluetooth, when the computer Bluetooth display is searching for nearby Bluetooth devices, hold down the mouse button (at the bottom of the mouse small black button) and keep 3 to 8 seconds, and then your computer display the search bluetooth mouse, bluetooth device click on the link, and then the connection is successful']\\nprice: 14.99\\nstore: KLO\\ncategories: ['Electronics', 'Computers & Accessories', 'Computer Accessories & Peripherals', 'Keyboards, Mice & Accessories', 'Mice']\\ndetails: {'Product Dimensions': '4.5 x 2.2 x 1 inches', 'Item Weight': '3.2 ounces', 'Batteries': '1 Lithium Ion batteries required. (included)', 'Best Sellers Rank': {'Computer Mice': 1315}, 'Date First Available': 'August 31, 2020', 'Manufacturer': 'KLO GD', 'Country of Origin': 'China', 'Brand': 'KLO', 'Color': 'BT/A deep Pink-Black', 'Connectivity Technology': 'Wireless', 'Special Feature': 'Wireless', 'Movement Detection Technology': 'Optical'}\\ntags: ['Electronics', 'Computers & Accessories', 'Computer Accessories & Peripherals', 'Keyboards, Mice & Accessories', 'Mice']\")]"
      ]
     },
     "execution_count": 28,
     "metadata": {},
     "output_type": "execute_result"
    }
   ],
   "source": [
    "# 5 child documents belonging to 3 parent documents are retrieved.\n",
    "retrieved_docs"
   ]
  }
 ],
 "metadata": {
  "kernelspec": {
   "display_name": "chrenv",
   "language": "python",
   "name": "python3"
  },
  "language_info": {
   "codemirror_mode": {
    "name": "ipython",
    "version": 3
   },
   "file_extension": ".py",
   "mimetype": "text/x-python",
   "name": "python",
   "nbconvert_exporter": "python",
   "pygments_lexer": "ipython3",
   "version": "3.9.19"
  }
 },
 "nbformat": 4,
 "nbformat_minor": 2
}
